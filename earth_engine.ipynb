{
 "cells": [
  {
   "cell_type": "raw",
   "source": [
    "H#%% md\n",
    "ey guys whats going on heres my epic python code\n",
    "\n",
    "# ee.FeatureCollection\n",
    "# Map = geepmap.Map()\n",
    "# Map\n",
    "\n"
   ],
   "metadata": {
    "collapsed": false
   }
  },
  {
   "cell_type": "code",
   "execution_count": 7,
   "outputs": [
    {
     "data": {
      "text/plain": "<IPython.core.display.HTML object>",
      "text/html": "\n            <style>\n                .geemap-dark {\n                    --jp-widgets-color: white;\n                    --jp-widgets-label-color: white;\n                    --jp-ui-font-color1: white;\n                    --jp-layout-color2: #454545;\n                    background-color: #383838;\n                }\n                    \n                .geemap-dark .jupyter-button {\n                    --jp-layout-color3: #383838;\n                }\n                \n                .geemap-colab {\n                    background-color: var(--colab-primary-surface-color, white);\n                }\n                    \n                .geemap-colab .jupyter-button {\n                    --jp-layout-color3: var(--colab-primary-surface-color, white);\n                }\n            </style>\n            "
     },
     "metadata": {},
     "output_type": "display_data"
    }
   ],
   "source": [
    "import datetime\n",
    "import ee\n",
    "import geemap"
   ],
   "metadata": {
    "collapsed": false,
    "ExecuteTime": {
     "end_time": "2023-10-19T02:53:01.684330400Z",
     "start_time": "2023-10-19T02:53:01.669029900Z"
    }
   }
  },
  {
   "cell_type": "code",
   "execution_count": 9,
   "outputs": [
    {
     "data": {
      "text/plain": "<IPython.core.display.HTML object>",
      "text/html": "\n            <style>\n                .geemap-dark {\n                    --jp-widgets-color: white;\n                    --jp-widgets-label-color: white;\n                    --jp-ui-font-color1: white;\n                    --jp-layout-color2: #454545;\n                    background-color: #383838;\n                }\n                    \n                .geemap-dark .jupyter-button {\n                    --jp-layout-color3: #383838;\n                }\n                \n                .geemap-colab {\n                    background-color: var(--colab-primary-surface-color, white);\n                }\n                    \n                .geemap-colab .jupyter-button {\n                    --jp-layout-color3: var(--colab-primary-surface-color, white);\n                }\n            </style>\n            "
     },
     "metadata": {},
     "output_type": "display_data"
    }
   ],
   "source": [
    "lc = ee.ImageCollection('MODIS/006/MCD12Q1')\n",
    "lst = ee.ImageCollection('MODIS/006/MOD11A1')\n",
    "elv = ee.Image('USGS/SRTMGL1_003')"
   ],
   "metadata": {
    "collapsed": false,
    "ExecuteTime": {
     "end_time": "2023-10-19T02:54:57.670735600Z",
     "start_time": "2023-10-19T02:54:57.658778800Z"
    }
   }
  },
  {
   "cell_type": "code",
   "execution_count": 10,
   "outputs": [
    {
     "data": {
      "text/plain": "<IPython.core.display.HTML object>",
      "text/html": "\n            <style>\n                .geemap-dark {\n                    --jp-widgets-color: white;\n                    --jp-widgets-label-color: white;\n                    --jp-ui-font-color1: white;\n                    --jp-layout-color2: #454545;\n                    background-color: #383838;\n                }\n                    \n                .geemap-dark .jupyter-button {\n                    --jp-layout-color3: #383838;\n                }\n                \n                .geemap-colab {\n                    background-color: var(--colab-primary-surface-color, white);\n                }\n                    \n                .geemap-colab .jupyter-button {\n                    --jp-layout-color3: var(--colab-primary-surface-color, white);\n                }\n            </style>\n            "
     },
     "metadata": {},
     "output_type": "display_data"
    }
   ],
   "source": [
    "ee.Initialize()\n",
    "ee_date = ee.Date('2020-01-01')\n",
    "py_date = datetime.datetime.utcfromtimestamp(ee_date.getInfo()['value']/1000.0)"
   ],
   "metadata": {
    "collapsed": false,
    "ExecuteTime": {
     "end_time": "2023-10-19T02:55:16.380545100Z",
     "start_time": "2023-10-19T02:55:15.576460900Z"
    }
   }
  },
  {
   "cell_type": "code",
   "execution_count": null,
   "outputs": [],
   "source": [],
   "metadata": {
    "collapsed": false
   }
  }
 ],
 "metadata": {
  "kernelspec": {
   "display_name": "Python 3",
   "language": "python",
   "name": "python3"
  },
  "language_info": {
   "codemirror_mode": {
    "name": "ipython",
    "version": 2
   },
   "file_extension": ".py",
   "mimetype": "text/x-python",
   "name": "python",
   "nbconvert_exporter": "python",
   "pygments_lexer": "ipython2",
   "version": "2.7.6"
  }
 },
 "nbformat": 4,
 "nbformat_minor": 0
}
